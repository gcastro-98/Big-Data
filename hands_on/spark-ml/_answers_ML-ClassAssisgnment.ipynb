{
 "cells": [
  {
   "cell_type": "markdown",
   "id": "ffef7f08-9b23-4bec-9d73-dc6ad0ce983a",
   "metadata": {},
   "source": [
    "### Create a model to predict the flight delay over 15 minutes (ARR_DEL15) \n"
   ]
  },
  {
   "cell_type": "code",
   "execution_count": 4,
   "id": "422a8fc4-0da1-46b8-a9ce-e53c48c70093",
   "metadata": {
    "tags": []
   },
   "outputs": [],
   "source": [
    "from pyspark.sql import SparkSession\n",
    "\n",
    "spark = SparkSession \\\n",
    "    .builder \\\n",
    "    .appName(\"Python Spark ML Class Assisgnment\") \\\n",
    "    .getOrCreate()"
   ]
  },
  {
   "cell_type": "code",
   "execution_count": 18,
   "id": "1bf1de1d-7eeb-42de-8bb5-9921c413cd41",
   "metadata": {
    "tags": []
   },
   "outputs": [],
   "source": [
    "# read the file\n",
    "from pyspark.sql.types import StructType, StructField, IntegerType, StringType, DoubleType, TimestampType\n",
    "df = (spark.read.format(\"csv\").\n",
    "  option(\"header\", \"true\").\n",
    "  option(\"nullValue\", \"NA\").\n",
    "  option(\"inferSchema\", True).\n",
    "  load(\"flight_weather_small.csv\"))"
   ]
  },
  {
   "cell_type": "markdown",
   "id": "e0e3875d-c794-4f48-98fd-c6b57c5deb55",
   "metadata": {},
   "source": [
    "In this dataset,\n",
    "\n",
    "ARR_DEL15 : 1 when the flight is delayed over 15 minutes, 0 otherwise.\n",
    "XXXOrigin : Weather conditions in departure airport.\n",
    "XXXDest : Weather conditions in destination airport."
   ]
  },
  {
   "cell_type": "code",
   "execution_count": 20,
   "id": "9bcfb8df-6f9a-4f64-bd8f-2d6433b8895d",
   "metadata": {
    "tags": []
   },
   "outputs": [
    {
     "name": "stdout",
     "output_type": "stream",
     "text": [
      "There are 99999 rows in df. This is:\n"
     ]
    },
    {
     "data": {
      "text/plain": [
       "[Row(X.1=1, YEAR=2012, MONTH=1, DAY_OF_MONTH=4, DAY_OF_WEEK=3, FL_DATE=datetime.date(2012, 1, 4), UNIQUE_CARRIER='AA', TAIL_NUM='N320AA', FL_NUM=1, ORIGIN_AIRPORT_ID=12478, ORIGIN='JFK', ORIGIN_STATE_ABR='NY', DEST_AIRPORT_ID=12892, DEST='LAX', DEST_STATE_ABR='CA', CRS_DEP_TIME=9, DEP_TIME=904, DEP_DELAY=4, DEP_DELAY_NEW=4, DEP_DEL15=0, DEP_DELAY_GROUP=0, TAXI_OUT=18, WHEELS_OFF=922, WHEELS_ON=1131, TAXI_IN=20, CRS_ARR_TIME=12, ARR_TIME=1151, ARR_DELAY=-34, ARR_DELAY_NEW=0, ARR_DEL15=0, ARR_DELAY_GROUP=-2, CANCELLED=0, CANCELLATION_CODE='', DIVERTED=0, CRS_ELAPSED_TIME=385, ACTUAL_ELAPSED_TIME=347, AIR_TIME=309, FLIGHTS=1, DISTANCE=2475, DISTANCE_GROUP=10, CARRIER_DELAY=None, WEATHER_DELAY=None, NAS_DELAY=None, SECURITY_DELAY=None, LATE_AIRCRAFT_DELAY=None, X=None, VisibilityOrigin=10.0, DryBulbCelsiusOrigin=-3.9, DewPointCelsiusOrigin=-19.4, RelativeHumidityOrigin=29.0, WindSpeedOrigin=7.0, AltimeterOrigin=30.1, VisibilityDest=10.0, DryBulbCelsiusDest=17.2, DewPointCelsiusDest=10.6, RelativeHumidityDest=65.0, WindSpeedDest=3.0, AltimeterDest=30.18),\n",
       " Row(X.1=2, YEAR=2012, MONTH=1, DAY_OF_MONTH=20, DAY_OF_WEEK=5, FL_DATE=datetime.date(2012, 1, 20), UNIQUE_CARRIER='AA', TAIL_NUM='N327AA', FL_NUM=1, ORIGIN_AIRPORT_ID=12478, ORIGIN='JFK', ORIGIN_STATE_ABR='NY', DEST_AIRPORT_ID=12892, DEST='LAX', DEST_STATE_ABR='CA', CRS_DEP_TIME=9, DEP_TIME=858, DEP_DELAY=-2, DEP_DELAY_NEW=0, DEP_DEL15=0, DEP_DELAY_GROUP=-1, TAXI_OUT=21, WHEELS_OFF=919, WHEELS_ON=1212, TAXI_IN=15, CRS_ARR_TIME=12, ARR_TIME=1227, ARR_DELAY=2, ARR_DELAY_NEW=2, ARR_DEL15=0, ARR_DELAY_GROUP=0, CANCELLED=0, CANCELLATION_CODE='', DIVERTED=0, CRS_ELAPSED_TIME=385, ACTUAL_ELAPSED_TIME=389, AIR_TIME=353, FLIGHTS=1, DISTANCE=2475, DISTANCE_GROUP=10, CARRIER_DELAY=None, WEATHER_DELAY=None, NAS_DELAY=None, SECURITY_DELAY=None, LATE_AIRCRAFT_DELAY=None, X=None, VisibilityOrigin=10.0, DryBulbCelsiusOrigin=0.0, DewPointCelsiusOrigin=-16.7, RelativeHumidityOrigin=28.0, WindSpeedOrigin=15.0, AltimeterOrigin=30.21, VisibilityDest=10.0, DryBulbCelsiusDest=13.9, DewPointCelsiusDest=10.0, RelativeHumidityDest=78.0, WindSpeedDest=6.0, AltimeterDest=30.09)]"
      ]
     },
     "execution_count": 20,
     "metadata": {},
     "output_type": "execute_result"
    }
   ],
   "source": [
    "# check sample data from table\n",
    "print(f\"There are {df.count()} rows in df. This is:\")\n",
    "df.head(2)"
   ]
  },
  {
   "cell_type": "code",
   "execution_count": 11,
   "id": "539a8ae7-46a7-4918-b4c5-e4f526a7b4c8",
   "metadata": {
    "tags": []
   },
   "outputs": [],
   "source": [
    "# Mark as \"delayed over 15 minutes\" if it's canceled."
   ]
  },
  {
   "cell_type": "code",
   "execution_count": 12,
   "id": "b3a8facf-bdd3-4c30-b8e3-a224e373a291",
   "metadata": {
    "tags": []
   },
   "outputs": [],
   "source": [
    "from pyspark.sql.functions import when\n",
    "df = df.withColumn(\"ARR_DEL15\", when(df[\"CANCELLED\"] == 1, 1).otherwise(df[\"ARR_DEL15\"]))"
   ]
  },
  {
   "cell_type": "code",
   "execution_count": 14,
   "id": "2b66924f-92da-44c3-ade8-fa4a7848c6b7",
   "metadata": {
    "tags": []
   },
   "outputs": [],
   "source": [
    "#Remove flights if it's diverted.\n",
    "df = df.filter(df[\"DIVERTED\"] != 1)"
   ]
  },
  {
   "cell_type": "code",
   "execution_count": 17,
   "id": "57355676-05df-4eef-98ca-99fe7ae0d62f",
   "metadata": {
    "tags": []
   },
   "outputs": [
    {
     "data": {
      "text/plain": [
       "99821"
      ]
     },
     "execution_count": 17,
     "metadata": {},
     "output_type": "execute_result"
    }
   ],
   "source": [
    "df.count()"
   ]
  },
  {
   "cell_type": "markdown",
   "id": "813de4fa-d67b-4c7d-832b-cff809d8a82f",
   "metadata": {},
   "source": [
    "#### Narrow to required columns.\n",
    "\n",
    "\"ARR_DEL15\",\n",
    "  \"MONTH\",\n",
    "  \"DAY_OF_WEEK\",\n",
    "  \"UNIQUE_CARRIER\",\n",
    "  \"ORIGIN\",\n",
    "  \"DEST\",\n",
    "  \"CRS_DEP_TIME\",\n",
    "  \"CRS_ARR_TIME\",\n",
    "  \"RelativeHumidityOrigin\",\n",
    "  \"AltimeterOrigin\",\n",
    "  \"DryBulbCelsiusOrigin\",\n",
    "  \"WindSpeedOrigin\",\n",
    "  \"VisibilityOrigin\",\n",
    "  \"DewPointCelsiusOrigin\",\n",
    "  \"RelativeHumidityDest\",\n",
    "  \"AltimeterDest\",\n",
    "  \"DryBulbCelsiusDest\",\n",
    "  \"WindSpeedDest\",\n",
    "  \"VisibilityDest\",\n",
    "  \"DewPointCelsiusDest\""
   ]
  },
  {
   "cell_type": "code",
   "execution_count": 21,
   "id": "2054a467-bd3e-4297-bd66-214066d17e65",
   "metadata": {
    "tags": []
   },
   "outputs": [],
   "source": [
    "# Select required columns\n",
    "df = df.select(\"ARR_DEL15\", \"MONTH\", \"DAY_OF_WEEK\", \"UNIQUE_CARRIER\", \"ORIGIN\", \"DEST\", \"CRS_DEP_TIME\", \"CRS_ARR_TIME\", \"RelativeHumidityOrigin\", \"AltimeterOrigin\", \"DryBulbCelsiusOrigin\", \"WindSpeedOrigin\", \"VisibilityOrigin\", \"DewPointCelsiusOrigin\", \"RelativeHumidityDest\", \"AltimeterDest\", \"DryBulbCelsiusDest\", \"WindSpeedDest\", \"VisibilityDest\", \"DewPointCelsiusDest\")"
   ]
  },
  {
   "cell_type": "code",
   "execution_count": 22,
   "id": "1b11732f-98c2-47a7-8887-72b1c79aec73",
   "metadata": {
    "tags": []
   },
   "outputs": [],
   "source": [
    "# Drop rows with null value\n",
    "df = df.na.drop()"
   ]
  },
  {
   "cell_type": "code",
   "execution_count": 23,
   "id": "dcd5b0bd-165b-43e0-9ed8-809e2d56054e",
   "metadata": {
    "tags": []
   },
   "outputs": [],
   "source": [
    "# Split data into training data and evaluation data (ratio is 80% : 20%).\n",
    "train, test = df.randomSplit(weights=[0.8, 0.2], seed=123)"
   ]
  },
  {
   "cell_type": "markdown",
   "id": "5c023aae-d7c5-4b64-a33a-7b460bc4b351",
   "metadata": {},
   "source": [
    "#### Convert categorical values to index values (0, 1, ...) for the following columns.\n",
    "\n",
    "Carrier code (UNIQUE_CARRIER)\n",
    "Airport code in departure (ORIGIN)\n",
    "Airport code in destination (DEST)\n",
    "Flag (0 or 1) for delay over 15 minutes (ARR_DEL15)\n",
    "\n",
    "hint: pyspark.ml.feature check StringIndexer transformer"
   ]
  },
  {
   "cell_type": "code",
   "execution_count": 25,
   "id": "758f8bed-e902-4e97-a942-1094123693ce",
   "metadata": {
    "tags": []
   },
   "outputs": [],
   "source": [
    "from pyspark.ml.feature import StringIndexer\n",
    "uniqueCarrierIndexer = StringIndexer(inputCol=\"UNIQUE_CARRIER\", outputCol=\"Indexed_UNIQUE_CARRIER\").fit(df)\n",
    "originIndexer = StringIndexer(inputCol=\"ORIGIN\", outputCol=\"Indexed_ORIGIN\").fit(df)\n",
    "destIndexer = StringIndexer(inputCol=\"DEST\", outputCol=\"Indexed_DEST\").fit(df)\n",
    "arrDel15Indexer = StringIndexer(inputCol=\"ARR_DEL15\", outputCol=\"Indexed_ARR_DEL15\").fit(df)"
   ]
  },
  {
   "cell_type": "markdown",
   "id": "b0827c54-6376-4303-87dd-2ec8d7b152ba",
   "metadata": {},
   "source": [
    "#### In Spark machine learning, the feature columns must be wrapped as a single vector value.\n",
    "\n",
    "So create new vector column named \"features\".\n",
    "\n",
    "Hint: pyspark.ml.feature check VectorAssembler"
   ]
  },
  {
   "cell_type": "code",
   "execution_count": 26,
   "id": "696a5ac3-84f2-47d9-a2a9-8f2c7c0780e2",
   "metadata": {
    "tags": []
   },
   "outputs": [],
   "source": [
    "from pyspark.ml.feature import VectorAssembler\n",
    "assembler = VectorAssembler(\n",
    "  inputCols = [\n",
    "    \"MONTH\",\n",
    "    \"DAY_OF_WEEK\",\n",
    "    \"Indexed_UNIQUE_CARRIER\",\n",
    "    \"Indexed_ORIGIN\",\n",
    "    \"Indexed_DEST\",\n",
    "    \"CRS_DEP_TIME\",\n",
    "    \"CRS_ARR_TIME\",\n",
    "    \"RelativeHumidityOrigin\",\n",
    "    \"AltimeterOrigin\",\n",
    "    \"DryBulbCelsiusOrigin\",\n",
    "    \"WindSpeedOrigin\",\n",
    "    \"VisibilityOrigin\",\n",
    "    \"DewPointCelsiusOrigin\",\n",
    "    \"RelativeHumidityDest\",\n",
    "    \"AltimeterDest\",\n",
    "    \"DryBulbCelsiusDest\",\n",
    "    \"WindSpeedDest\",\n",
    "    \"VisibilityDest\",\n",
    "    \"DewPointCelsiusDest\"],\n",
    "  outputCol = \"features\")"
   ]
  },
  {
   "cell_type": "markdown",
   "id": "02cbd018-ba2e-4ee8-a5de-12c9b322524d",
   "metadata": {},
   "source": [
    "#### Generate classifier. Here we use Decision Tree classifier.\n",
    "\n",
    "Hint: From pyspark.ml.classification check DecisionTreeClassifier"
   ]
  },
  {
   "cell_type": "code",
   "execution_count": 32,
   "id": "d0e17648-9d0b-476f-b8e3-08ca13be9254",
   "metadata": {
    "tags": []
   },
   "outputs": [],
   "source": [
    "from pyspark.ml.classification import DecisionTreeClassifier\n",
    "classifier = DecisionTreeClassifier(seed=123, labelCol='Indexed_ARR_DEL15', maxBins=250)"
   ]
  },
  {
   "cell_type": "markdown",
   "id": "31605cbb-a735-49f2-bd85-aa4f5896497b",
   "metadata": {},
   "source": [
    "#### Generate SparkML pipeline and run training.\n",
    "Trained model (with coefficients) and pipeline are stored in the variable \"model\"."
   ]
  },
  {
   "cell_type": "code",
   "execution_count": 33,
   "id": "c67eda76-a927-4a80-945d-026b47fd2ee9",
   "metadata": {
    "tags": []
   },
   "outputs": [],
   "source": [
    "from pyspark.ml import Pipeline\n",
    "pipeline = Pipeline(stages=[uniqueCarrierIndexer, originIndexer, destIndexer, arrDel15Indexer, assembler, classifier])\n",
    "model = pipeline.fit(train)"
   ]
  },
  {
   "cell_type": "markdown",
   "id": "5fc81e59-0733-4b05-87cd-47ba1b091636",
   "metadata": {},
   "source": [
    "#### Predict with eveluation data."
   ]
  },
  {
   "cell_type": "code",
   "execution_count": 34,
   "id": "cf05b512-f539-4e6f-8101-ace5180c71c5",
   "metadata": {
    "tags": []
   },
   "outputs": [
    {
     "name": "stdout",
     "output_type": "stream",
     "text": [
      "+---------+-----+-----------+--------------+------+----+------------+------------+----------------------+---------------+--------------------+---------------+----------------+---------------------+--------------------+-------------+------------------+-------------+--------------+-------------------+----------------------+--------------+------------+-----------------+--------------------+----------------+--------------------+----------+\n",
      "|ARR_DEL15|MONTH|DAY_OF_WEEK|UNIQUE_CARRIER|ORIGIN|DEST|CRS_DEP_TIME|CRS_ARR_TIME|RelativeHumidityOrigin|AltimeterOrigin|DryBulbCelsiusOrigin|WindSpeedOrigin|VisibilityOrigin|DewPointCelsiusOrigin|RelativeHumidityDest|AltimeterDest|DryBulbCelsiusDest|WindSpeedDest|VisibilityDest|DewPointCelsiusDest|Indexed_UNIQUE_CARRIER|Indexed_ORIGIN|Indexed_DEST|Indexed_ARR_DEL15|            features|   rawPrediction|         probability|prediction|\n",
      "+---------+-----+-----------+--------------+------+----+------------+------------+----------------------+---------------+--------------------+---------------+----------------+---------------------+--------------------+-------------+------------------+-------------+--------------+-------------------+----------------------+--------------+------------+-----------------+--------------------+----------------+--------------------+----------+\n",
      "|        0|    1|          1|            AA|   ABQ| DFW|          10|          13|                  25.0|          30.54|                 8.9|            0.0|            10.0|                -10.0|                37.0|         30.6|               6.7|          6.0|          10.0|               -7.2|                   2.0|          48.0|         2.0|              0.0|[1.0,1.0,2.0,48.0...|[39017.0,5834.0]|[0.86992486232191...|       0.0|\n",
      "|        0|    1|          1|            AA|   ATL| DFW|          13|          15|                  24.0|          30.09|                 5.0|           22.0|            10.0|                -13.9|                43.0|        30.59|               6.1|          9.0|          10.0|               -5.6|                   2.0|           0.0|         2.0|              0.0|[1.0,1.0,2.0,0.0,...|[39017.0,5834.0]|[0.86992486232191...|       0.0|\n",
      "|        0|    1|          1|            AA|   AUS| DFW|          18|          19|                  89.0|          30.02|                 5.0|            0.0|            10.0|                  3.3|                58.0|        30.03|               7.8|          0.0|          10.0|                0.0|                   2.0|          40.0|         2.0|              0.0|[1.0,1.0,2.0,40.0...| [8546.0,1788.0]|[0.82697890458680...|       0.0|\n",
      "|        0|    1|          1|            AA|   BDL| DFW|           6|           9|                  33.0|           30.2|                 2.8|           16.0|            10.0|                -12.2|                59.0|        30.09|              18.9|         17.0|          10.0|               10.6|                   2.0|          58.0|         2.0|              0.0|[1.0,1.0,2.0,58.0...|[39017.0,5834.0]|[0.86992486232191...|       0.0|\n",
      "|        0|    1|          1|            AA|   BNA| DFW|          14|          16|                  83.0|          30.13|                 8.9|            0.0|            10.0|                  6.1|    87.6666666666667|        30.05|               7.4|         11.0|           1.5|   5.36666666666667|                   2.0|          30.0|         2.0|              0.0|[1.0,1.0,2.0,30.0...| [8546.0,1788.0]|[0.82697890458680...|       0.0|\n",
      "|        0|    1|          1|            AA|   BUR| DFW|          12|          17|                  65.0|           30.0|                14.4|            3.0|            10.0|                  7.8|                74.0|        30.11|             16.85|         14.0|          10.0|               12.1|                   2.0|          54.0|         2.0|              0.0|[1.0,1.0,2.0,54.0...|[39017.0,5834.0]|[0.86992486232191...|       0.0|\n",
      "|        0|    1|          1|            AA|   CMH| DFW|          14|          16|                  73.0|          29.84|                 6.1|           17.0|             7.0|                  1.7|                50.0|        30.03|               9.4|          3.0|          10.0|               -0.6|                   2.0|          55.0|         2.0|              0.0|[1.0,1.0,2.0,55.0...|[39017.0,5834.0]|[0.86992486232191...|       0.0|\n",
      "|        0|    1|          1|            AA|   COS| DFW|           6|           9|                  15.0|          29.85|                13.3|            6.0|            10.0|                -12.8|                59.0|        30.09|              18.9|         17.0|          10.0|               10.6|                   2.0|          74.0|         2.0|              0.0|[1.0,1.0,2.0,74.0...|[39017.0,5834.0]|[0.86992486232191...|       0.0|\n",
      "|        0|    1|          1|            AA|   DCA| DFW|           7|           9|                  55.0|          30.28|                 4.4|            5.0|            10.0|                 -3.9|                89.4|       30.064|              6.34|         17.8|           2.3|                4.8|                   2.0|          24.0|         2.0|              0.0|[1.0,1.0,2.0,24.0...|[39017.0,5834.0]|[0.86992486232191...|       0.0|\n",
      "|        0|    1|          1|            AA|   DCA| DFW|          16|          19|                  51.0|          30.25|                 5.6|           15.0|            10.0|                 -3.9|                90.0|        29.89|              17.8|         15.0|          10.0|               16.1|                   2.0|          24.0|         2.0|              0.0|[1.0,1.0,2.0,24.0...|[39017.0,5834.0]|[0.86992486232191...|       0.0|\n",
      "|        0|    1|          1|            AA|   DCA| MIA|           8|          11|                  36.0|           29.9|                 5.6|           17.0|            10.0|                 -8.3|                54.0|        30.08|              25.0|          9.0|          10.0|               15.0|                   2.0|          24.0|        20.0|              0.0|[1.0,1.0,2.0,24.0...|[39017.0,5834.0]|[0.86992486232191...|       0.0|\n",
      "|        0|    1|          1|            AA|   DCA| ORD|          10|          11|                  24.0|          30.33|                 8.3|            8.0|            10.0|                -11.1|                57.0|        29.81|              10.6|         13.0|          10.0|                2.2|                   2.0|          24.0|         1.0|              0.0|[1.0,1.0,2.0,24.0...|[39017.0,5834.0]|[0.86992486232191...|       0.0|\n",
      "|        0|    1|          1|            AA|   DEN| DFW|          19|          22|                  59.0|          29.78|                 0.0|            8.0|            10.0|                 -7.2|                58.0|        30.03|               7.2|          0.0|          10.0|               -0.6|                   2.0|           3.0|         2.0|              0.0|[1.0,1.0,2.0,3.0,...|[39017.0,5834.0]|[0.86992486232191...|       0.0|\n",
      "|        0|    1|          1|            AA|   DFW| BNA|          11|          13|                  86.0|         30.035|                8.15|           13.0|            10.0|                  5.8|                83.0|        30.14|               9.7|          4.0|          10.0|               6.85|                   2.0|           2.0|        30.0|              0.0|[1.0,1.0,2.0,2.0,...| [8546.0,1788.0]|[0.82697890458680...|       0.0|\n",
      "|        0|    1|          1|            AA|   DFW| CMH|          10|          13|                  63.0|          30.08|                17.8|           21.0|            10.0|                 10.6|                50.0|        30.09|               7.8|          7.0|          10.0|               -2.2|                   2.0|           2.0|        54.0|              0.0|[1.0,1.0,2.0,2.0,...|[39017.0,5834.0]|[0.86992486232191...|       0.0|\n",
      "|        0|    1|          1|            AA|   DFW| DEN|          10|          11|                  31.0|          30.04|                16.1|            3.0|            10.0|                 -1.1|                42.0|        29.81|               2.2|          7.0|          10.0|               -9.4|                   2.0|           2.0|         3.0|              0.0|[1.0,1.0,2.0,2.0,...|[39017.0,5834.0]|[0.86992486232191...|       0.0|\n",
      "|        0|    1|          1|            AA|   DFW| JFK|          10|          14|                  63.0|          30.08|                17.8|           21.0|            10.0|                 10.6|                39.0|        30.33|               2.2|         10.0|          10.0|              -10.6|                   2.0|           2.0|        15.0|              0.0|[1.0,1.0,2.0,2.0,...|[39017.0,5834.0]|[0.86992486232191...|       0.0|\n",
      "|        0|    1|          1|            AA|   DFW| LAX|           7|           9|                  68.0|          29.94|                21.7|           22.0|            10.0|                 15.6|                62.0|        30.16|              12.2|          7.0|          10.0|                5.0|                   2.0|           2.0|         4.0|              0.0|[1.0,1.0,2.0,2.0,...|[39017.0,5834.0]|[0.86992486232191...|       0.0|\n",
      "|        0|    1|          1|            AA|   DFW| MCI|          17|          18|                  84.0|          29.89|                17.8|           15.0|            10.0|                 15.0|                76.0|        29.73|               1.7|         11.0|          10.0|               -2.2|                   2.0|           2.0|        31.0|              0.0|[1.0,1.0,2.0,2.0,...| [4429.0,1696.0]|[0.72310204081632...|       0.0|\n",
      "|        0|    1|          1|            AA|   DFW| OMA|          21|          23|                  81.0|         30.065|               16.05|           16.5|            10.0|                 12.9|                92.0|        29.75|               2.2|          7.0|          10.0|                1.1|                   2.0|           2.0|        62.0|              0.0|[1.0,1.0,2.0,2.0,...| [8546.0,1788.0]|[0.82697890458680...|       0.0|\n",
      "+---------+-----+-----------+--------------+------+----+------------+------------+----------------------+---------------+--------------------+---------------+----------------+---------------------+--------------------+-------------+------------------+-------------+--------------+-------------------+----------------------+--------------+------------+-----------------+--------------------+----------------+--------------------+----------+\n",
      "only showing top 20 rows\n",
      "\n"
     ]
    }
   ],
   "source": [
    "# Predict with eveluation data\n",
    "pred = model.transform(test)\n",
    "pred.show()"
   ]
  },
  {
   "cell_type": "markdown",
   "id": "d1473f90-1fe0-46f6-9f75-61114a058b9e",
   "metadata": {},
   "source": [
    "#### Show evaluation result.\n",
    "\n",
    "Hint: pyspark.ml.evaluation check MulticlassClassificationEvaluator"
   ]
  },
  {
   "cell_type": "code",
   "execution_count": 39,
   "id": "a14aa4fe-3df2-4f5a-b7de-07683caf4a44",
   "metadata": {
    "tags": []
   },
   "outputs": [
    {
     "data": {
      "text/plain": [
       "0.7601886270228939"
      ]
     },
     "execution_count": 39,
     "metadata": {},
     "output_type": "execute_result"
    }
   ],
   "source": [
    "# Evaluate results\n",
    "from pyspark.ml.evaluation import MulticlassClassificationEvaluator\n",
    "\n",
    "evaluator = MulticlassClassificationEvaluator(labelCol='Indexed_ARR_DEL15')\n",
    "evaluator.evaluate(pred)"
   ]
  },
  {
   "cell_type": "code",
   "execution_count": 40,
   "id": "ddb5c1cf-b3c0-4647-b12d-3dbf5bcdef39",
   "metadata": {
    "tags": []
   },
   "outputs": [],
   "source": [
    "# Save pipeline\n",
    "model.write().overwrite().save(\"spark-ml-assignment-dt-model\")"
   ]
  },
  {
   "cell_type": "code",
   "execution_count": null,
   "id": "cf6aa513-1aaa-461c-ac60-f6ab0ff90c65",
   "metadata": {},
   "outputs": [],
   "source": []
  }
 ],
 "metadata": {
  "kernelspec": {
   "display_name": "Python 3 (ipykernel)",
   "language": "python",
   "name": "python3"
  },
  "language_info": {
   "codemirror_mode": {
    "name": "ipython",
    "version": 3
   },
   "file_extension": ".py",
   "mimetype": "text/x-python",
   "name": "python",
   "nbconvert_exporter": "python",
   "pygments_lexer": "ipython3",
   "version": "3.10.10"
  }
 },
 "nbformat": 4,
 "nbformat_minor": 5
}
