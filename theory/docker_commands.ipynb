{
 "cells": [
  {
   "cell_type": "markdown",
   "id": "32e31cd5",
   "metadata": {},
   "source": [
    "--------------------------------------\n",
    "# *Docker cheatsheet*\n",
    "--------------------------------------"
   ]
  },
  {
   "cell_type": "markdown",
   "id": "7461071d",
   "metadata": {},
   "source": [
    "# General ``docker`` (CLI) commands"
   ]
  },
  {
   "cell_type": "markdown",
   "id": "ee8c7a6b",
   "metadata": {},
   "source": [
    "There is no need to remind that, for every of the **following commands**, more details can be found in the *built-in guide* if the use the **``--help``** flag "
   ]
  },
  {
   "cell_type": "markdown",
   "id": "f1bb5cd4",
   "metadata": {},
   "source": [
    "### ``docker search <registry-address>``"
   ]
  },
  {
   "cell_type": "markdown",
   "id": "8e8e2637",
   "metadata": {},
   "source": [
    "This command provides a list of images (official or not) with similar registry name."
   ]
  },
  {
   "cell_type": "markdown",
   "id": "a3d3449a",
   "metadata": {},
   "source": [
    "### ``docker pull <registry-address>:<tag>``"
   ]
  },
  {
   "cell_type": "markdown",
   "id": "09b18bd7",
   "metadata": {},
   "source": [
    "Used to pull the ``<registry>`` image from the Docker registry (at Dockerhub) and saves it to our system\n",
    "\n",
    "Let's remind that a ``tag`` refers to a particular snapshot of the image, whose unique identifier is the ``image-id``. The ``tag`` can be specified with dots after the registry address (usually ``user/image-name`` if they are not official images) "
   ]
  },
  {
   "cell_type": "markdown",
   "id": "660dc621",
   "metadata": {},
   "source": [
    "Most of times the registry address is something like:\n",
    "```docker\n",
    "registry/repo/name:tag\n",
    "```\n",
    "For instance,\n",
    "```docker\n",
    "docker.elastic.co/elasticsearch/elasticsearch:6.3.2\n",
    "```"
   ]
  },
  {
   "cell_type": "markdown",
   "id": "e5525f1f",
   "metadata": {},
   "source": [
    "### ``docker push <image-name>``"
   ]
  },
  {
   "cell_type": "markdown",
   "id": "314fc55e",
   "metadata": {},
   "source": [
    "Once we have built an image from a Dockerfile named ``<image-name>`` this can be pushed into the remote (Dockerhub) using the ``push`` command."
   ]
  },
  {
   "cell_type": "markdown",
   "id": "b66cd963",
   "metadata": {},
   "source": [
    "## *Images* commands"
   ]
  },
  {
   "cell_type": "markdown",
   "id": "f36040aa",
   "metadata": {},
   "source": [
    "### ``docker build -t <image-name> <location-of-Dockerfile>``"
   ]
  },
  {
   "cell_type": "markdown",
   "id": "109ec56b",
   "metadata": {},
   "source": [
    "Create an image with name ``<image-name>`` based on the Dockerfile found at ``<location-of-Dockerfile>``  "
   ]
  },
  {
   "cell_type": "markdown",
   "id": "22e2fcd0",
   "metadata": {},
   "source": [
    "### ``docker images``"
   ]
  },
  {
   "cell_type": "markdown",
   "id": "95ec3c4f",
   "metadata": {},
   "source": [
    "Provides a list of all images on your system"
   ]
  },
  {
   "cell_type": "markdown",
   "id": "0b37265d",
   "metadata": {},
   "source": [
    "### ``docker image prune``"
   ]
  },
  {
   "cell_type": "markdown",
   "id": "fc0b4052",
   "metadata": {},
   "source": [
    "Remove dangling images. Note that images that you no longer need can be deleted by running:\n",
    "```docker\n",
    "docker rmi\n",
    "```"
   ]
  },
  {
   "cell_type": "markdown",
   "id": "7ce8fdfb",
   "metadata": {},
   "source": [
    "## *Containers* commands"
   ]
  },
  {
   "cell_type": "markdown",
   "id": "092dbfa2",
   "metadata": {},
   "source": [
    "### ``docker run --rm -d -it --name <container-name> --net <network-name> -p <local-port>:<container-port> -v <host_directory>:<container_directory> -e \"<var-name>=<var-value>\" <image>``"
   ]
  },
  {
   "cell_type": "markdown",
   "id": "9128e730",
   "metadata": {},
   "source": [
    "Run a Docker container based on the passed image:\n",
    "- The ``--name`` tag gives a name to the container which will be created\n",
    "- The ``--net`` tag specifies inside which network this container will be launched\n",
    "- The ``-d`` flag starts the container in detached mode, (the container runs in the background and doesn't keep the terminal occupied)\n",
    "- The ``-it`` flag attaches us to an interactive *tty* (virtual terminal session)\n",
    "- The ``-p`` flag allows us to specify the port at which the docker will hear\n",
    "- _Bind mount_: the ``v`` flag tells Docker engine to **mount** the given host directory to the container directory\n",
    "- The ``-e`` flag passes an environment variable to the container\n",
    "- The ``-P`` flag tells Docker to publish all exposed ports of the container to random ports on the host interface (equivalent to using the ``-p`` flag with an empty value for the host port (-p :<container_port>). For example, if your Dockerfile exposes port 80 (``EXPOSE 80``), using -P will publish the container's port 80 to a random port on the host machine (allowing you to access the containerized application through that random port on your local machine).\n",
    "- The ``--rm`` tag tells Docker to automatically remove the container and its associated file system after it exits (useful for ephemeral containers, such as those used for testing, because it ensures that any changes made to the container's file system are discarded once the container is stopped).\n",
    "\n",
    "For instance, an example of query could be:\n",
    "\n",
    "```docker\n",
    "docker run -d --name es --net bridge -p 9200:9200 -p 9300:9300 -e \"discovery.type=single-node\" <image-name>\n",
    "```\n",
    "Being, for instance, ``<image-name>``=``docker.elastic.co/elasticsearch/elasticsearch:6.3.2`` this address of the Elasticsearch image "
   ]
  },
  {
   "cell_type": "markdown",
   "id": "b5dbeecd",
   "metadata": {},
   "source": [
    "### ``docker container logs <container-name>``"
   ]
  },
  {
   "cell_type": "markdown",
   "id": "8b08f9a6",
   "metadata": {},
   "source": [
    "Checks logs on the container. We can also perform a curl to see if the passed port is listening:\n",
    "```bash\n",
    "curl 0.0.0.0:<local-port>\n",
    "```\n",
    "\n",
    "Bearing in mind 0.0.0.0 is the private IP address of the localhost"
   ]
  },
  {
   "cell_type": "markdown",
   "id": "02e4cfa5",
   "metadata": {},
   "source": [
    "### ``docker ps -a -q -f <condition>``"
   ]
  },
  {
   "cell_type": "markdown",
   "id": "359917c0",
   "metadata": {},
   "source": [
    "List the running containers **history**:\n",
    "- The ``-a`` flag is for more information\n",
    "- The ``-q`` flag is to force the **``ps``** to return just the numeric IDs of the containers \n",
    "- The ``-f`` flag filters the output based on conditions provide: _e.g._ ``status=exited``\n",
    "\n",
    "Note ``docker container ls`` is equivalent to ``docker ps``"
   ]
  },
  {
   "cell_type": "markdown",
   "id": "c8d636d7",
   "metadata": {},
   "source": [
    "### ``docker rm <container ids>``"
   ]
  },
  {
   "cell_type": "markdown",
   "id": "075dc4c9",
   "metadata": {},
   "source": [
    "Delete a/some container/s given its/their id/s"
   ]
  },
  {
   "cell_type": "markdown",
   "id": "2cc152fc",
   "metadata": {},
   "source": [
    "### ``docker container prune``"
   ]
  },
  {
   "cell_type": "markdown",
   "id": "0484222d",
   "metadata": {},
   "source": [
    "Deletes all containers that have a status of exited. Note the same can be achieved by doing:\n",
    "```docker\n",
    "$ docker rm $(docker ps -a -q -f status=exited)\n",
    "```"
   ]
  },
  {
   "cell_type": "markdown",
   "id": "fbe51634",
   "metadata": {},
   "source": [
    "## _Volumes_ commands"
   ]
  },
  {
   "cell_type": "markdown",
   "id": "f82693fe",
   "metadata": {},
   "source": [
    "Good for sharing data among multiple running containers and you want decouple the configuration of the Docker host from the container runtime (or even store the container's data on a remote host or a cloud provider rather than locally).\n",
    "\n",
    "The volume's directory can be always backed up even though the container's not running: ``/var/lib/docker/volumes/<volume-name>``."
   ]
  },
  {
   "cell_type": "markdown",
   "id": "77044b21",
   "metadata": {},
   "source": [
    "### ``docker volume create``"
   ]
  },
  {
   "cell_type": "markdown",
   "id": "6c7edb97",
   "metadata": {},
   "source": [
    "Create a Docker volume"
   ]
  },
  {
   "cell_type": "markdown",
   "id": "e04e3d7f",
   "metadata": {},
   "source": [
    "### ``docker volume prune``"
   ]
  },
  {
   "cell_type": "markdown",
   "id": "b19e686f",
   "metadata": {},
   "source": [
    "When no running container is using a volume, the volume is still available to Docker (**not** automatically **removed**). If we want to remove unused volumes we have to use the instruction above"
   ]
  },
  {
   "cell_type": "markdown",
   "id": "56a4ec18",
   "metadata": {},
   "source": [
    "## _Networks_ commands"
   ]
  },
  {
   "cell_type": "markdown",
   "id": "43770076",
   "metadata": {},
   "source": [
    "### ``docker network inspect <network-name>`` "
   ]
  },
  {
   "cell_type": "markdown",
   "id": "bcf0ff38",
   "metadata": {},
   "source": [
    "Where ``<network-name>`` is the network name. There 3 already existing by default:\n",
    "- ``bridge``\n",
    "- ``host``\n",
    "- ``none``\n",
    "\n",
    "Actually, typing ``docker network inspect bridge`` will tell us which is the private IP address through which the container can be accessed.\n",
    "\n",
    "Even though this network is shared amongst container, the IP address can change. So how we tell to another container which is the hostname of one container? This can be done if we..."
   ]
  },
  {
   "cell_type": "markdown",
   "id": "ae65864f",
   "metadata": {},
   "source": [
    "### Create a network: ``docker network create <network-name>``"
   ]
  },
  {
   "cell_type": "markdown",
   "id": "b1ce670c",
   "metadata": {},
   "source": [
    "And we can see the list of created networks with ``docker network ls``"
   ]
  },
  {
   "cell_type": "markdown",
   "id": "14c5f680",
   "metadata": {},
   "source": [
    "Most importantly, to launch the containers inside this network we have to specify it with the ``--net <network-name>`` flag in the ``docker run`` command (e.g., ``docker run -d --name es --net foodtrucks-net``)"
   ]
  },
  {
   "cell_type": "markdown",
   "id": "670c8312",
   "metadata": {},
   "source": [
    "# Dockerfile cheatsheet"
   ]
  },
  {
   "cell_type": "markdown",
   "id": "bce20e47",
   "metadata": {},
   "source": [
    "Below you can find a complete list of commands to use in a Dockerfile: https://docs.docker.com/engine/reference/builder/"
   ]
  },
  {
   "cell_type": "markdown",
   "id": "15cdbe07",
   "metadata": {},
   "source": [
    "The most common commands found in a Dockerfile are:\n",
    "- ``FROM <registry-address>:<tag>``: specifying the base image (if the created image is a child image) \n",
    "- ``EXPOSE <port>``: set which ports of the containers are available from outside\n",
    "- ``CMD [<command-1>, <command-2>]``: run a ``CMD`` command\n",
    "- ``RUN <bash-command>``: run a ``bash`` command\n",
    "- ``COPY <local-file> <container-directory>``: we copy the local file into the passed container directory\n",
    "- ``ADD <local-folder> <volume-address>``: we copy our local folder into a new volume in the container (analogous to ``COPY`` but for local folders, which are set as volumes)\n",
    "- ``WORKDIR <container-directory>``: we set the passed directory as the working directory"
   ]
  },
  {
   "cell_type": "markdown",
   "id": "c364bd5a",
   "metadata": {},
   "source": [
    "# Multi-container applications: ``docker-compose``"
   ]
  },
  {
   "cell_type": "markdown",
   "id": "94ba854c",
   "metadata": {},
   "source": [
    "With Compose, you use a YAML file to \n",
    "configure your application’s services. Then, with a single \n",
    "command, you create and start all the services from your\n",
    "configuration.\n",
    "Using Compose is basically a three-step process:\n",
    "1. Define your app’s environment with a Dockerfile so it can be reproduced anywhere.\n",
    "2. Define the services that make up your app in docker-compose.yml so they can be run together in an isolated environment.\n",
    "3. Run ``docker-compose`` up and Compose starts and runs your entire app"
   ]
  },
  {
   "cell_type": "markdown",
   "id": "9bf96fa8",
   "metadata": {},
   "source": [
    "## Example of ``docker-compose.yml`` file"
   ]
  },
  {
   "cell_type": "markdown",
   "id": "7fba2240",
   "metadata": {},
   "source": [
    "```yml\n",
    "version: \"3\"\n",
    "services:\n",
    "  es:\n",
    "    image: docker.elastic.co/elasticsearch/elasticsearch:6.3.2\n",
    "    container_name: es\n",
    "    environment:\n",
    "      - discovery.type=single-node\n",
    "    ports:\n",
    "      - 9200:9200\n",
    "    volumes:\n",
    "      - esdata1:/usr/share/elasticsearch/data\n",
    "  web:\n",
    "    image: rohit1308k/foodtrucks-web\n",
    "    command: python app.py\n",
    "    depends_on:\n",
    "      - es\n",
    "    ports:\n",
    "      - 5000:5000\n",
    "    volumes:\n",
    "      - ./flask-app:/opt/flask-app\n",
    "volumes:\n",
    "    esdata1:\n",
    "      driver: local\n",
    "```"
   ]
  },
  {
   "cell_type": "markdown",
   "id": "402cd31c",
   "metadata": {},
   "source": [
    "There are 2 main levels we have to define:\n",
    "- Services\n",
    "- Volumes\n",
    "\n",
    "There can be several services. After listing them by name, we can define what they do throgh diferent commands, such as: ``image``, ``container_name``, ``command``, ``depends_on``, ``environment``, ``ports``, ``volumes``..."
   ]
  },
  {
   "cell_type": "markdown",
   "id": "055833a0",
   "metadata": {},
   "source": [
    "## Known commands"
   ]
  },
  {
   "cell_type": "markdown",
   "id": "036cfa57",
   "metadata": {},
   "source": [
    "For instance:\n",
    "- ``docker-compose up -d``: ``-d`` for detached\n",
    "- ``docker-compose down -v``: ``-v`` to delete the volumes"
   ]
  }
 ],
 "metadata": {
  "kernelspec": {
   "display_name": "SeasonalForecast",
   "language": "python",
   "name": "seasonalforecast"
  },
  "language_info": {
   "codemirror_mode": {
    "name": "ipython",
    "version": 3
   },
   "file_extension": ".py",
   "mimetype": "text/x-python",
   "name": "python",
   "nbconvert_exporter": "python",
   "pygments_lexer": "ipython3",
   "version": "3.9.16"
  }
 },
 "nbformat": 4,
 "nbformat_minor": 5
}
