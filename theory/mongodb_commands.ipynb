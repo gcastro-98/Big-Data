{
 "cells": [
  {
   "cell_type": "markdown",
   "id": "47ea093f",
   "metadata": {},
   "source": [
    "# Setup"
   ]
  },
  {
   "cell_type": "markdown",
   "id": "ad9ee80f",
   "metadata": {},
   "source": [
    "First, we initialize a Mongo cluster by selecting a local path (in which the data will be stored) ``<local-path>`` and running:\n",
    "```bash\n",
    "docker run -p 27017:27017 -v <local-path>:/data/db mongo\n",
    "```"
   ]
  },
  {
   "cell_type": "markdown",
   "id": "634053a5",
   "metadata": {},
   "source": [
    "Now the database is running locally (IP address of the ``localhost`` is ``0.0.0.0``) at port 27017. **MongoDB Compass** can be leveraged both to create and organize the databases and collections of the cluster; as well as the _mongo shell_ (no IDE, just CLI).\n"
   ]
  },
  {
   "cell_type": "markdown",
   "id": "1aff60de",
   "metadata": {},
   "source": [
    "Actually, using the _mongo shell_ one could access and connect to a remote Mongo database with the syntaxis:\n",
    "```bash\n",
    "mongo --username alice --password --authenticationDatabase admin --host mongodb0.examples.com --port 2801\n",
    "```"
   ]
  },
  {
   "cell_type": "markdown",
   "id": "485f89bb",
   "metadata": {},
   "source": [
    "Once the database & collection has been created, we can start querying both using the _mongo shell_, the **MongoDB Compass** or the **Python API**: ``pymongo``:"
   ]
  },
  {
   "cell_type": "code",
   "execution_count": 2,
   "id": "534f968b",
   "metadata": {},
   "outputs": [],
   "source": [
    "import pymongo  # conda install -c anaconda pymongo\n",
    "myclient = pymongo.MongoClient(\"mongodb://localhost:27017/\")"
   ]
  },
  {
   "cell_type": "markdown",
   "id": "da9cfd74",
   "metadata": {},
   "source": [
    "Assuming we have a database called ``ub`` with a collection name ``restaurants``..."
   ]
  },
  {
   "cell_type": "code",
   "execution_count": 18,
   "id": "265180f4",
   "metadata": {},
   "outputs": [],
   "source": [
    "db = myclient.get_database('ub')\n",
    "_collection = db.restaurants"
   ]
  },
  {
   "cell_type": "markdown",
   "id": "96f9be87",
   "metadata": {},
   "source": [
    "# Queries"
   ]
  },
  {
   "cell_type": "markdown",
   "id": "1101138a",
   "metadata": {},
   "source": [
    "#### Write a MongoDB query to display the fields restaurant_id, name, borough and cuisine for all the documents in the collection restaurant. "
   ]
  },
  {
   "cell_type": "code",
   "execution_count": 21,
   "id": "fae54b13",
   "metadata": {},
   "outputs": [],
   "source": [
    "cursor = db.restaurants.find({},{\"restaurant_id\" : 1,\"name\":1,\"borough\":1,\"cuisine\" :1})\n",
    "for _result in cursor:\n",
    "    pass\n",
    "    # print(_result)"
   ]
  },
  {
   "cell_type": "markdown",
   "id": "f367ca78",
   "metadata": {},
   "source": [
    "#### Write a MongoDB query to display the fields restaurant_id, name, borough and cuisine, but exclude the field _id for all the documents in the collection restaurant. "
   ]
  },
  {
   "cell_type": "code",
   "execution_count": 22,
   "id": "d7df8516",
   "metadata": {},
   "outputs": [],
   "source": [
    "cursor = db.restaurants.find({},{\"restaurant_id\" : 1,\"name\":1,\"borough\":1,\"cuisine\" :1,\"_id\":0});"
   ]
  },
  {
   "cell_type": "markdown",
   "id": "554ba801",
   "metadata": {},
   "source": [
    "#### Write a MongoDB query to display all the restaurant which is in the borough Bronx"
   ]
  },
  {
   "cell_type": "code",
   "execution_count": 23,
   "id": "3fade679",
   "metadata": {},
   "outputs": [],
   "source": [
    "cursor = db.restaurants.find({\"borough\": \"Bronx\"})"
   ]
  },
  {
   "cell_type": "markdown",
   "id": "637acc13",
   "metadata": {},
   "source": [
    "#### Write a MongoDB query to display the first 5 restaurant which is in the borough Bronx. "
   ]
  },
  {
   "cell_type": "code",
   "execution_count": 24,
   "id": "23e287e5",
   "metadata": {},
   "outputs": [],
   "source": [
    "cursor = db.restaurants.find({\"borough\": \"Bronx\"}).limit(5)"
   ]
  },
  {
   "cell_type": "markdown",
   "id": "a2db8ab8",
   "metadata": {},
   "source": [
    "#### Write a MongoDB query to display the next 5 restaurants after skipping first 5 which are in the borough Bronx. "
   ]
  },
  {
   "cell_type": "code",
   "execution_count": 25,
   "id": "b77a09d8",
   "metadata": {},
   "outputs": [],
   "source": [
    "cursor = db.restaurants.find({\"borough\": \"Bronx\"}).skip(5).limit(5)"
   ]
  },
  {
   "cell_type": "markdown",
   "id": "07fb4031",
   "metadata": {},
   "source": [
    "#### Write a MongoDB query to find the restaurants who achieved a score more than 90."
   ]
  },
  {
   "cell_type": "code",
   "execution_count": 28,
   "id": "99ce228b",
   "metadata": {},
   "outputs": [],
   "source": [
    "cursor = db.restaurants.find({'grades': {'$elemMatch':{\"score\":{'$gt': 90}}}})"
   ]
  },
  {
   "cell_type": "markdown",
   "id": "b4817d17",
   "metadata": {},
   "source": [
    "#### Write a MongoDB query to find the restaurants that achieved a score, more than 80 but less than 100."
   ]
  },
  {
   "cell_type": "code",
   "execution_count": 29,
   "id": "f6e15ca7",
   "metadata": {},
   "outputs": [],
   "source": [
    "cursor = db.restaurants.find({'grades': {'$elemMatch':{\"score\":{'$gt': 80, '$lt': 100}}}})"
   ]
  },
  {
   "cell_type": "markdown",
   "id": "4fdd71b8",
   "metadata": {},
   "source": [
    "#### Write a MongoDB query to find the restaurants that do not prepare any cuisine of 'American' and their grade score more than 70 and latitude less than -65.754168."
   ]
  },
  {
   "cell_type": "code",
   "execution_count": 31,
   "id": "b396566c",
   "metadata": {},
   "outputs": [],
   "source": [
    "cursor = db.restaurants.find(\n",
    "    {\n",
    "        \"cuisine\" : {'$ne': \"American \"},\n",
    "        \"grades.score\" :{'$gt': 70},\n",
    "        \"address.coord\" : {'$lt': -65.754168}\n",
    "    })"
   ]
  },
  {
   "cell_type": "markdown",
   "id": "2400bff0",
   "metadata": {},
   "source": [
    "## Queries with RegEx"
   ]
  },
  {
   "cell_type": "markdown",
   "id": "a28e4653",
   "metadata": {},
   "source": [
    "#### Write a MongoDB query to find the restaurants which contain 'Wil' as first three letters for its name."
   ]
  },
  {
   "cell_type": "code",
   "execution_count": 32,
   "id": "77c7301d",
   "metadata": {},
   "outputs": [],
   "source": [
    "db.restaurants.find({'name': '/^Wil/'});"
   ]
  },
  {
   "cell_type": "markdown",
   "id": "650ab037",
   "metadata": {},
   "source": [
    "#### Write a MongoDB query to find the restaurants which contain 'ces' as last three letters for its name. "
   ]
  },
  {
   "cell_type": "code",
   "execution_count": null,
   "id": "070f7a3c",
   "metadata": {},
   "outputs": [],
   "source": [
    "db.restaurants.find({name: /ces$/});"
   ]
  },
  {
   "cell_type": "markdown",
   "id": "d8d783b5",
   "metadata": {},
   "source": [
    "#### Write a MongoDB query to find the restaurants which contain 'Reg' as three letters somewhere in its name. "
   ]
  },
  {
   "cell_type": "code",
   "execution_count": 35,
   "id": "d90ea3a9",
   "metadata": {},
   "outputs": [],
   "source": [
    "db.restaurants.find({\"name\": '/.*Reg.*/'});"
   ]
  },
  {
   "cell_type": "markdown",
   "id": "e484c9e1",
   "metadata": {},
   "source": [
    "#### Write a MongoDB query to find the restaurants which belong to the borough Bronx and prepared either American or Chinese dish."
   ]
  },
  {
   "cell_type": "code",
   "execution_count": 37,
   "id": "08d91d67",
   "metadata": {},
   "outputs": [],
   "source": [
    "db.restaurants.find(\n",
    "    { \n",
    "        \"borough\": \"Bronx\" , \n",
    "        '$or': [{ \"cuisine\" : \"American \" },{ \"cuisine\" : \"Chinese\" }],\n",
    "    });"
   ]
  }
 ],
 "metadata": {
  "kernelspec": {
   "display_name": "SeasonalForecast",
   "language": "python",
   "name": "seasonalforecast"
  },
  "language_info": {
   "codemirror_mode": {
    "name": "ipython",
    "version": 3
   },
   "file_extension": ".py",
   "mimetype": "text/x-python",
   "name": "python",
   "nbconvert_exporter": "python",
   "pygments_lexer": "ipython3",
   "version": "3.9.16"
  }
 },
 "nbformat": 4,
 "nbformat_minor": 5
}
